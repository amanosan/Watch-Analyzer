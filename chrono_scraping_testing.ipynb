{
 "cells": [
  {
   "cell_type": "code",
   "execution_count": 1,
   "metadata": {},
   "outputs": [],
   "source": [
    "import selenium\n",
    "import os\n",
    "from bs4 import BeautifulSoup as bs\n",
    "import requests\n",
    "import time"
   ]
  },
  {
   "cell_type": "code",
   "execution_count": 62,
   "metadata": {},
   "outputs": [],
   "source": [
    "driver = selenium.webdriver.Chrome('chromedriver.exe')"
   ]
  },
  {
   "cell_type": "code",
   "execution_count": 63,
   "metadata": {},
   "outputs": [],
   "source": [
    "WEBSITE_URL = \"https://www.chrono24.com/\""
   ]
  },
  {
   "cell_type": "code",
   "execution_count": 78,
   "metadata": {},
   "outputs": [],
   "source": [
    "BRANDS = [\n",
    "    'rolex',\n",
    "    'iwc'\n",
    "]"
   ]
  },
  {
   "cell_type": "code",
   "execution_count": 79,
   "metadata": {},
   "outputs": [],
   "source": [
    "url = 'https://www.chrono24.com/rolex/index.htm'"
   ]
  },
  {
   "cell_type": "code",
   "execution_count": 119,
   "metadata": {},
   "outputs": [],
   "source": [
    "driver.get(url)\n",
    "for _ in range(15):\n",
    "    driver.execute_script('window.scrollBy(0, 500)')\n",
    "    time.sleep(1)"
   ]
  },
  {
   "cell_type": "code",
   "execution_count": 126,
   "metadata": {},
   "outputs": [],
   "source": [
    "page_source = driver.page_source"
   ]
  },
  {
   "cell_type": "code",
   "execution_count": 127,
   "metadata": {},
   "outputs": [],
   "source": [
    "page = bs(page_source, 'html.parser')"
   ]
  },
  {
   "cell_type": "code",
   "execution_count": 142,
   "metadata": {},
   "outputs": [],
   "source": [
    "article_divs = page.find_all('div', {'class': 'article-item-container'})"
   ]
  },
  {
   "cell_type": "code",
   "execution_count": 143,
   "metadata": {},
   "outputs": [
    {
     "data": {
      "text/plain": [
       "<div class=\"article-item-container wt-search-result\">\n",
       "<a class=\"article-item block-item pole-item flex-column full-height\" data-article-id=\"8168704\" data-manufacturer=\"Rolex\" href=\"/rolex/rolex-cosmograph-daytona-18ct-white-gold-automatic-silver-dial-mens-watch---116519ln--id8168704.htm\" onclick=\"trackTeaserEvent('search.manufacturerlist', 'pole-position-watches', {'articleId': '8168704'}); if (c24.watchPositions != null) c24.watchPositions.store(8168704, 1);\">\n",
       "<div class=\"article-image-container\">\n",
       "<div class=\"content\">\n",
       "<img alt=\"Rolex White gold 40mm Automatic 116519LN new United States of America, California, San Mateo\" src=\"https://cdn2.chrono24.com/images/uhren/8168704-lpcki2zz1o494vvxpogd6ibz-Square210.jpg\" srcset=\"https://cdn2.chrono24.com/images/uhren/8168704-lpcki2zz1o494vvxpogd6ibz-Square420.jpg 2x\"/></div>\n",
       "<span class=\"article-badge top\">TOP</span><span class=\"notepad-toggle\" data-note=\"8168704\" onclick=\"event.stopPropagation(); if (c24.tools.toggleNote != null) c24.tools.toggleNote('8168704'); return false;\"><i class=\"notepad-toggle-icon i-note-inverse\"></i><i class=\"notepad-toggle-icon-bg i-note\"></i></span></div>\n",
       "<div class=\"p-x-2 p-b-2\">\n",
       "<div class=\"article-title\">\n",
       "         Rolex Cosmograph Daytona 18ct White Gold Automatic Silver Dial...</div>\n",
       "<div class=\"article-price-container\">\n",
       "<div class=\"article-price\">\n",
       "<span class=\"article-availability immediately js-popover\" data-container=\"body\" data-content=\"Available now\" data-original-title=\"Availability\" data-placement=\"top\" title=\"\"></span><div>\n",
       "<strong>\n",
       "<span class=\"currency\">$</span>48,469</strong>\n",
       "</div></div>\n",
       "<div class=\"article-price-info\">\n",
       "</div>\n",
       "</div>\n",
       "<div class=\"article-seller-container media-flex align-items-end flex-grow\">\n",
       "<div class=\"media-flex-body\">\n",
       "<div class=\"article-seller-label\">\n",
       "</div>\n",
       "<div class=\"article-seller-name text-sm\">\n",
       "                           Professional dealer</div>\n",
       "<div class=\"article-seller-rating\">\n",
       "<div class=\"js-popover pointer\" data-container=\"body\" data-content=\"Buyers rated this dealer:&lt;br&gt;&lt;br&gt;4.8 out of 5 stars&lt;br&gt;Number of reviews: 2471\" data-original-title=\"\" data-placement=\"top\" data-title=\"Reviews\" title=\"\">\n",
       "<span class=\"rating relative\">\n",
       "<img alt=\"\" class=\"rating-star-background\" height=\"22\" src=\"https://static.chrono24.com/images/default/dealer/rating-stars-empty.svg\" width=\"75\"/><div class=\"rating-star-wrapper\" style=\"width: 97.6603946685791%;\">\n",
       "<img alt=\"\" class=\"rating-star-background\" height=\"22\" src=\"https://static.chrono24.com/images/default/dealer/rating-stars-filled.svg\" width=\"75\"/></div>\n",
       "</span></div>\n",
       "</div>\n",
       "</div>\n",
       "<div class=\"media-flex-right\">\n",
       "<div class=\"article-seller-info text-nowrap\">\n",
       "<div class=\"article-seller-icon article-seller-checkouts pointer js-popover text-center d-flex flex-column justify-content-end\" data-container=\"body\" data-content=\"In the rare case that something doesn't go as planned, you can rely on our Buyer Protection service.\" data-original-title=\"\" data-placement=\"top\" data-title=\"Chrono24 Buyer Protection\" title=\"\">\n",
       "<svg aria-hidden=\"true\" class=\"svg-icon color-trusted pointer\" height=\"24\" width=\"24\">\n",
       "<use xlink:href=\"/images/icons/icons.svg?647301ae3e#buyers-protection\"></use>\n",
       "</svg><div class=\"caption\">\n",
       "               4131</div>\n",
       "</div>\n",
       "<div class=\"article-seller-icon article-seller-flag d-flex flex-column justify-content-end\">\n",
       "<script class=\"hide\">\n",
       "      $(window).load(function(){\n",
       "         (function() {\n",
       "            c24.popover.merchantIcons('.jq-merchant-country-icon-popover');\n",
       "\n",
       "            var $tooltipHolder = $(\"<div class='hide'></div>\");\n",
       "            var $countryIconTooltip = $(\"<div id='jq-popover-merchant-country'></div>\");\n",
       "            $countryIconTooltip.append(\"<span class='title'>{0}</span>\")\n",
       "                               .append(\"<div class=\\\"content\\\">This dealer is from {0}, {1}.<\\/div>\");\n",
       "\n",
       "            \n",
       "            var $privateSellerCountryTooltip = $(\"<div id='jq-popover-private-seller-country'></div>\");\n",
       "            $privateSellerCountryTooltip.append(\"<span class='title'>{0}</span>\")\n",
       "                                        .append(\"<div class=\\\"content\\\">This private seller is from {0}.<\\/div>\");\n",
       "\n",
       "            \n",
       "            var $chrono24DirectCountryTooltip = $(\"<div id='jq-popover-chrono24-direct-country'></div>\");\n",
       "            $chrono24DirectCountryTooltip.append(\"<span class='title'>{0}</span>\")\n",
       "               .append(\"<div class=\\\"content\\\">We will ship this watch from {0}<\\/div>\");\n",
       "\n",
       "            $tooltipHolder.append($countryIconTooltip).append($privateSellerCountryTooltip).append($chrono24DirectCountryTooltip);\n",
       "            \n",
       "            $(\"body\").append($tooltipHolder);\n",
       "         })();\n",
       "      });\n",
       "   </script>\n",
       "<i class=\"rflag rflag-24 js-rflag-lazy m-r-0 pointer jq-merchant-country-icon-popover rf-US\" data-content=\"\" data-content-replacements=\"Burlingame,United States of America\" data-lazy-class=\"rf-US\" data-original-title=\"\" data-placement=\"\" data-title=\"\" data-title-replacements=\"United States of America\" data-tooltip-container=\"#jq-popover-merchant-country\" title=\"\"></i><span class=\"caption\">\n",
       "      US</span>\n",
       "</div>\n",
       "</div>\n",
       "</div>\n",
       "</div>\n",
       "</div>\n",
       "</a>\n",
       "</div>"
      ]
     },
     "execution_count": 143,
     "metadata": {},
     "output_type": "execute_result"
    }
   ],
   "source": [
    "article_divs[0]"
   ]
  },
  {
   "cell_type": "code",
   "execution_count": 168,
   "metadata": {},
   "outputs": [],
   "source": [
    "img_links = []\n",
    "prices = []\n",
    "for article in article_divs:\n",
    "    \n",
    "    # image div:\n",
    "    img_link = article.find('div', {'class': 'article-image-container'}).div.img['src']\n",
    "    \n",
    "    price_text = article.find('strong').text\n",
    "    price_text = ''.join(filter(str.isdigit, price_text))\n",
    "    \n",
    "    if not img_link or not price_text:\n",
    "        continue\n",
    "    if img_link == \"\" or price_text == \"\":\n",
    "        continue\n",
    "    \n",
    "    img_links.append(img_link)\n",
    "    prices.append(price_text)\n"
   ]
  },
  {
   "cell_type": "code",
   "execution_count": 166,
   "metadata": {},
   "outputs": [
    {
     "data": {
      "text/plain": [
       "['https://cdn2.chrono24.com/images/uhren/8168704-lpcki2zz1o494vvxpogd6ibz-Square210.jpg']"
      ]
     },
     "execution_count": 166,
     "metadata": {},
     "output_type": "execute_result"
    }
   ],
   "source": [
    "img_links"
   ]
  },
  {
   "cell_type": "code",
   "execution_count": 167,
   "metadata": {},
   "outputs": [
    {
     "data": {
      "text/plain": [
       "['48469']"
      ]
     },
     "execution_count": 167,
     "metadata": {},
     "output_type": "execute_result"
    }
   ],
   "source": [
    "prices"
   ]
  },
  {
   "cell_type": "code",
   "execution_count": 169,
   "metadata": {},
   "outputs": [
    {
     "data": {
      "text/plain": [
       "(64, 64)"
      ]
     },
     "execution_count": 169,
     "metadata": {},
     "output_type": "execute_result"
    }
   ],
   "source": [
    "len(img_links), len(prices)"
   ]
  },
  {
   "cell_type": "code",
   "execution_count": 2,
   "metadata": {},
   "outputs": [],
   "source": [
    "import pandas as pd\n",
    "import urllib"
   ]
  },
  {
   "cell_type": "code",
   "execution_count": 4,
   "metadata": {},
   "outputs": [],
   "source": [
    "url = 'https://cdn2.chrono24.com/images/uhren/8168704-lpcki2zz1o494vvxpogd6ibz-Square210.jpg'"
   ]
  },
  {
   "cell_type": "code",
   "execution_count": 5,
   "metadata": {},
   "outputs": [],
   "source": [
    "img = requests.get(url).content\n",
    "\n",
    "\n",
    "with open(\"test.jpg\", \"wb+\") as file:\n",
    "    file.write(img)"
   ]
  },
  {
   "cell_type": "code",
   "execution_count": 8,
   "metadata": {},
   "outputs": [],
   "source": [
    "img_links = pd.read_csv(\"./data/rolex.txt\", names=['link','price'])"
   ]
  },
  {
   "cell_type": "code",
   "execution_count": 9,
   "metadata": {},
   "outputs": [
    {
     "data": {
      "text/html": [
       "<div>\n",
       "<style scoped>\n",
       "    .dataframe tbody tr th:only-of-type {\n",
       "        vertical-align: middle;\n",
       "    }\n",
       "\n",
       "    .dataframe tbody tr th {\n",
       "        vertical-align: top;\n",
       "    }\n",
       "\n",
       "    .dataframe thead th {\n",
       "        text-align: right;\n",
       "    }\n",
       "</style>\n",
       "<table border=\"1\" class=\"dataframe\">\n",
       "  <thead>\n",
       "    <tr style=\"text-align: right;\">\n",
       "      <th></th>\n",
       "      <th>link</th>\n",
       "      <th>price</th>\n",
       "    </tr>\n",
       "  </thead>\n",
       "  <tbody>\n",
       "    <tr>\n",
       "      <th>0</th>\n",
       "      <td>https://cdn2.chrono24.com/images/uhren/1266251...</td>\n",
       "      <td>58969</td>\n",
       "    </tr>\n",
       "    <tr>\n",
       "      <th>1</th>\n",
       "      <td>https://cdn2.chrono24.com/images/uhren/1459548...</td>\n",
       "      <td>149995</td>\n",
       "    </tr>\n",
       "    <tr>\n",
       "      <th>2</th>\n",
       "      <td>https://cdn2.chrono24.com/images/uhren/8164506...</td>\n",
       "      <td>16699</td>\n",
       "    </tr>\n",
       "    <tr>\n",
       "      <th>3</th>\n",
       "      <td>https://cdn2.chrono24.com/images/uhren/8164894...</td>\n",
       "      <td>38769</td>\n",
       "    </tr>\n",
       "    <tr>\n",
       "      <th>4</th>\n",
       "      <td>https://cdn2.chrono24.com/images/uhren/1677715...</td>\n",
       "      <td>6891</td>\n",
       "    </tr>\n",
       "  </tbody>\n",
       "</table>\n",
       "</div>"
      ],
      "text/plain": [
       "                                                link   price\n",
       "0  https://cdn2.chrono24.com/images/uhren/1266251...   58969\n",
       "1  https://cdn2.chrono24.com/images/uhren/1459548...  149995\n",
       "2  https://cdn2.chrono24.com/images/uhren/8164506...   16699\n",
       "3  https://cdn2.chrono24.com/images/uhren/8164894...   38769\n",
       "4  https://cdn2.chrono24.com/images/uhren/1677715...    6891"
      ]
     },
     "execution_count": 9,
     "metadata": {},
     "output_type": "execute_result"
    }
   ],
   "source": [
    "img_links.head()"
   ]
  },
  {
   "cell_type": "code",
   "execution_count": 10,
   "metadata": {},
   "outputs": [
    {
     "data": {
      "text/plain": [
       "302"
      ]
     },
     "execution_count": 10,
     "metadata": {},
     "output_type": "execute_result"
    }
   ],
   "source": [
    "len(img_links)"
   ]
  },
  {
   "cell_type": "code",
   "execution_count": 13,
   "metadata": {},
   "outputs": [
    {
     "name": "stdout",
     "output_type": "stream",
     "text": [
      "https://cdn2.chrono24.com/images/uhren/12662510-g75qaw5tn13qn1ehlbgmu25y-Square210.jpg\n"
     ]
    }
   ],
   "source": [
    "print(img_links.link[0])\n",
    "brand = 'rolex'"
   ]
  },
  {
   "cell_type": "code",
   "execution_count": 19,
   "metadata": {},
   "outputs": [],
   "source": [
    "for i in range(len(img_links)):\n",
    "    img = requests.get(img_links.link[i]).content\n",
    "    \n",
    "    with open(f\"{brand}-{i}-{img_links.price[i]}.jpg\", \"wb+\") as file:\n",
    "        file.write(img)\n",
    "        \n",
    "    if i ==2:\n",
    "        break"
   ]
  },
  {
   "cell_type": "code",
   "execution_count": 22,
   "metadata": {},
   "outputs": [],
   "source": [
    "import urllib.request\n",
    "import urllib"
   ]
  },
  {
   "cell_type": "code",
   "execution_count": 25,
   "metadata": {},
   "outputs": [
    {
     "data": {
      "text/html": [
       "<div>\n",
       "<style scoped>\n",
       "    .dataframe tbody tr th:only-of-type {\n",
       "        vertical-align: middle;\n",
       "    }\n",
       "\n",
       "    .dataframe tbody tr th {\n",
       "        vertical-align: top;\n",
       "    }\n",
       "\n",
       "    .dataframe thead th {\n",
       "        text-align: right;\n",
       "    }\n",
       "</style>\n",
       "<table border=\"1\" class=\"dataframe\">\n",
       "  <thead>\n",
       "    <tr style=\"text-align: right;\">\n",
       "      <th></th>\n",
       "      <th>link</th>\n",
       "      <th>price</th>\n",
       "    </tr>\n",
       "  </thead>\n",
       "  <tbody>\n",
       "    <tr>\n",
       "      <th>0</th>\n",
       "      <td>https://cdn2.chrono24.com/images/uhren/1266251...</td>\n",
       "      <td>58969</td>\n",
       "    </tr>\n",
       "    <tr>\n",
       "      <th>1</th>\n",
       "      <td>https://cdn2.chrono24.com/images/uhren/1459548...</td>\n",
       "      <td>149995</td>\n",
       "    </tr>\n",
       "    <tr>\n",
       "      <th>2</th>\n",
       "      <td>https://cdn2.chrono24.com/images/uhren/8164506...</td>\n",
       "      <td>16699</td>\n",
       "    </tr>\n",
       "    <tr>\n",
       "      <th>3</th>\n",
       "      <td>https://cdn2.chrono24.com/images/uhren/8164894...</td>\n",
       "      <td>38769</td>\n",
       "    </tr>\n",
       "    <tr>\n",
       "      <th>4</th>\n",
       "      <td>https://cdn2.chrono24.com/images/uhren/1677715...</td>\n",
       "      <td>6891</td>\n",
       "    </tr>\n",
       "  </tbody>\n",
       "</table>\n",
       "</div>"
      ],
      "text/plain": [
       "                                                link   price\n",
       "0  https://cdn2.chrono24.com/images/uhren/1266251...   58969\n",
       "1  https://cdn2.chrono24.com/images/uhren/1459548...  149995\n",
       "2  https://cdn2.chrono24.com/images/uhren/8164506...   16699\n",
       "3  https://cdn2.chrono24.com/images/uhren/8164894...   38769\n",
       "4  https://cdn2.chrono24.com/images/uhren/1677715...    6891"
      ]
     },
     "execution_count": 25,
     "metadata": {},
     "output_type": "execute_result"
    }
   ],
   "source": [
    "img_links.head()"
   ]
  },
  {
   "cell_type": "code",
   "execution_count": 26,
   "metadata": {},
   "outputs": [
    {
     "data": {
      "text/plain": [
       "'https://cdn2.chrono24.com/images/uhren/12662510-g75qaw5tn13qn1ehlbgmu25y-Square210.jpg'"
      ]
     },
     "execution_count": 26,
     "metadata": {},
     "output_type": "execute_result"
    }
   ],
   "source": [
    "img_links.link[0]"
   ]
  },
  {
   "cell_type": "code",
   "execution_count": 27,
   "metadata": {},
   "outputs": [
    {
     "data": {
      "text/plain": [
       "58969"
      ]
     },
     "execution_count": 27,
     "metadata": {},
     "output_type": "execute_result"
    }
   ],
   "source": [
    "img_links.price[0]"
   ]
  },
  {
   "cell_type": "code",
   "execution_count": null,
   "metadata": {},
   "outputs": [],
   "source": []
  }
 ],
 "metadata": {
  "kernelspec": {
   "display_name": "Python 3",
   "language": "python",
   "name": "python3"
  },
  "language_info": {
   "codemirror_mode": {
    "name": "ipython",
    "version": 3
   },
   "file_extension": ".py",
   "mimetype": "text/x-python",
   "name": "python",
   "nbconvert_exporter": "python",
   "pygments_lexer": "ipython3",
   "version": "3.8.3"
  }
 },
 "nbformat": 4,
 "nbformat_minor": 4
}
